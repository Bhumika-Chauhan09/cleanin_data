{
  "nbformat": 4,
  "nbformat_minor": 0,
  "metadata": {
    "colab": {
      "provenance": [],
      "authorship_tag": "ABX9TyPhZzq6bCGCNWkWm2eXBZJp",
      "include_colab_link": true
    },
    "kernelspec": {
      "name": "python3",
      "display_name": "Python 3"
    },
    "language_info": {
      "name": "python"
    }
  },
  "cells": [
    {
      "cell_type": "markdown",
      "metadata": {
        "id": "view-in-github",
        "colab_type": "text"
      },
      "source": [
        "<a href=\"https://colab.research.google.com/github/Bhumika-Chauhan09/cleanin_data/blob/main/threshold.ipynb\" target=\"_parent\"><img src=\"https://colab.research.google.com/assets/colab-badge.svg\" alt=\"Open In Colab\"/></a>"
      ]
    },
    {
      "cell_type": "code",
      "execution_count": 7,
      "metadata": {
        "colab": {
          "base_uri": "https://localhost:8080/"
        },
        "id": "XWjkIIiFXpIN",
        "outputId": "fc287f95-ec9a-4531-81dc-692184639e5c"
      },
      "outputs": [
        {
          "output_type": "stream",
          "name": "stdout",
          "text": [
            "The calculated heart rate limit is: 127.89390519187359 BPM\n"
          ]
        }
      ],
      "source": [
        "import csv\n",
        "\n",
        "# Read heart rate data from the CSV file\n",
        "csv_file = 'heart_rate_data.csv'\n",
        "\n",
        "heart_rates = []\n",
        "\n",
        "try:\n",
        "    with open(csv_file, 'r') as file:\n",
        "        reader = csv.reader(file)\n",
        "        # Assuming the first row contains headers, skip it\n",
        "        next(reader)\n",
        "\n",
        "        # Read all heart rate readings\n",
        "        for row in reader:\n",
        "            heart_rate = int(row[1])\n",
        "            heart_rates.append(heart_rate)\n",
        "\n",
        "    # Calculate the average heart rate as the threshold\n",
        "    heart_rate_limit = sum(heart_rates) / len(heart_rates)\n",
        "\n",
        "    # Optionally, you can add a safety margin to the threshold, e.g., 10 BPM above the average\n",
        "    safety_margin = 10\n",
        "    heart_rate_limit += safety_margin\n",
        "\n",
        "    print(f\"The calculated heart rate limit is: {heart_rate_limit} BPM\")\n",
        "\n",
        "    # Now, you can use this calculated threshold in your check_heart_rate_data function\n",
        "    # Replace the hardcoded heart_rate_limit with the calculated value\n",
        "\n",
        "except FileNotFoundError:\n",
        "    print(f\"CSV file '{csv_file}' not found.\")\n",
        "except Exception as e:\n",
        "    print(f\"Error reading CSV file: {str(e)}\")\n"
      ]
    }
  ]
}